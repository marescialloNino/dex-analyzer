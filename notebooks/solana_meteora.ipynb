{
 "cells": [
  {
   "cell_type": "code",
   "execution_count": 1,
   "metadata": {},
   "outputs": [
    {
     "name": "stdout",
     "output_type": "stream",
     "text": [
      "Setting API URL: https://dlmm-api.meteora.ag\n",
      "Setting RPC: https://api.mainnet-beta.solana.com\n",
      "Creating session...\n",
      "Session headers set: {'User-Agent': 'python-requests/2.32.3', 'Accept-Encoding': 'gzip, deflate', 'Accept': 'application/json', 'Connection': 'keep-alive', 'Content-type': 'application/json', 'rpc': 'https://api.mainnet-beta.solana.com'}\n",
      "Initialized MoralisPriceFetcher with API key: eyJh...\n",
      "Fetching token symbols from CoinGecko...\n",
      "Mapped 3741 Solana token addresses to symbols\n"
     ]
    }
   ],
   "source": [
    "import sys\n",
    "import os\n",
    "\n",
    "project_root = os.path.abspath(os.path.join(os.getcwd(), \"..\"))\n",
    "sys.path.append(project_root)\n",
    "\n",
    "from src.clients.solana.meteora import SolanaMeteoraClient\n",
    "from src.utils.analyzer import Analyzer\n",
    "import matplotlib.pyplot as plt\n",
    "from matplotlib.dates import DateFormatter\n",
    "import matplotlib.dates as mpl_dates\n",
    "import pandas as pd\n",
    "from datetime import datetime, timedelta\n",
    "\n",
    "try:\n",
    "    from mplfinance.original_flavor import candlestick_ohlc\n",
    "except ImportError:\n",
    "    print(\"Install mplfinance for candlestick plots: pip install mplfinance\")\n",
    "\n",
    "client = SolanaMeteoraClient()\n",
    "\n"
   ]
  },
  {
   "cell_type": "code",
   "execution_count": 2,
   "metadata": {},
   "outputs": [
    {
     "name": "stdout",
     "output_type": "stream",
     "text": [
      "Fetching pools from https://dlmm-api.meteora.ag/pair/all\n",
      "Status code: 200\n",
      "Total pools in response: 69314\n",
      "Sample pool: {'address': 'EyaFBeTSgZY91FjNvCgKXrg6Tw89mfyrwRiQFjYEk51q', 'name': 'NYC-SOL', 'mint_x': 'nTYWWx9pnyoMVehGxEbf5focKJQ8EntNMWQkTMVuMAP', 'mint_y': 'So11111111111111111111111111111111111111112', 'reserve_x': '4SH2qY4BpoQ2fDByF5CEyuekvU7S5YhaqmxQ66Meh5u9', 'reserve_y': 'GmBct9G8keMSedHFEriaHMDagFaZqLkzisVCyDZ7w9c6', 'reserve_x_amount': 0, 'reserve_y_amount': 0, 'bin_step': 250, 'base_fee_percentage': '1', 'max_fee_percentage': '10', 'protocol_fee_percentage': '5', 'liquidity': '0', 'reward_mint_x': '11111111111111111111111111111111', 'reward_mint_y': '11111111111111111111111111111111', 'fees_24h': 0.0, 'today_fees': 0.0, 'trade_volume_24h': 0.0, 'cumulative_trade_volume': '0', 'cumulative_fee_volume': '0', 'current_price': 2.136768719968528e-06, 'apr': 0.0, 'apy': 0.0, 'farm_apr': 0.0, 'farm_apy': 0.0, 'hide': False, 'is_blacklisted': False, 'fees': {'min_30': 0.0, 'hour_1': 0.0, 'hour_2': 0.0, 'hour_4': 0.0, 'hour_12': 0.0, 'hour_24': 0.0}, 'fee_tvl_ratio': {'min_30': 0.0, 'hour_1': 0.0, 'hour_2': 0.0, 'hour_4': 0.0, 'hour_12': 0.0, 'hour_24': 0.0}, 'volume': {'min_30': 0.0, 'hour_1': 0.0, 'hour_2': 0.0, 'hour_4': 0.0, 'hour_12': 0.0, 'hour_24': 0.0}}\n",
      "Processed pairs: 69314\n",
      "Filtered pairs (TVL >= 100000, Volume >= 5000): 81\n",
      "LiquidityPair(address='B8t6HyaVQddYZnFihN27w9vSTfY9AdKpV6oCMbZMobjA', token0_symbol='GRIFFAIN', token0_address='KENJSUYLASHUMfHyy5o4Hp2FdNqZg1AsUPhfH2kYvEP', token1_symbol='SOL', token1_address='So11111111111111111111111111111111111111112', tvl=132657.58332461468, volume=414276.4277878605)\n",
      "LiquidityPair(address='oD3ZbhsUCX2VeutNyqVtmS4BCoezDwsbgN1WppHL2rL', token0_symbol='JLP', token0_address='27G8MtK7VtTcCHkpASjSDdkWWYfoqT6ggEuKidVJidD4', token1_symbol='MSOL', token1_address='mSoLzYCxHdYgdzU16g5QSh3i5K3z3KZK7ytfqcJm7So', tvl=108045.50159556165, volume=171654.8402579492)\n",
      "LiquidityPair(address='J2Gsg3xTDjM8UZjKdEqzBeDwitHb2Ux6TSBX5RzsE42r', token0_symbol='JLP', token0_address='27G8MtK7VtTcCHkpASjSDdkWWYfoqT6ggEuKidVJidD4', token1_symbol='SOL', token1_address='So11111111111111111111111111111111111111112', tvl=1897018.9208520132, volume=4416301.009739172)\n",
      "LiquidityPair(address='92J3X46dbnoPs25Vc3fr5m1xt9GVrQddqiPD9uzXQHH', token0_symbol='ARC', token0_address='61V8vBaqAGMpgDQi4JcAwo1dmBGHsyhzodcPqnEVpump', token1_symbol='SOL', token1_address='So11111111111111111111111111111111111111112', tvl=669742.607147806, volume=1999712.4156563308)\n",
      "LiquidityPair(address='5cvcHrD2uh2CXhmZnMHsTVWJW1qtyikVaN3MCJNaCKMh', token0_symbol='JUPSOL', token0_address='jupSoLaHXQiZZTSfEWMTRRgpnyFm8f6sZdosWBjx93v', token1_symbol='JITOSOL', token1_address='J1toso1uCk3RLmjorhTtrVwY9HJ7X8V9yYac6Y7kGCPn', tvl=1224667.050073671, volume=12363317.7785977)\n"
     ]
    }
   ],
   "source": [
    "# Fetch and filter pools\n",
    "pools = client.fetch_liquidity_pools()\n",
    "min_tvl = 100000\n",
    "min_volume = 5000\n",
    "filtered_pairs = client.filter_pairs(pools, min_tvl=min_tvl, min_volume=min_volume, no_pivots=False)\n",
    "print(f\"Filtered pairs (TVL >= {min_tvl}, Volume >= {min_volume}): {len(filtered_pairs)}\")\n",
    "for pair in filtered_pairs[:5]:\n",
    "    print(pair)\n",
    "\n",
    "\n"
   ]
  },
  {
   "cell_type": "code",
   "execution_count": 4,
   "metadata": {},
   "outputs": [
    {
     "name": "stdout",
     "output_type": "stream",
     "text": [
      "Native-Utility pairs found: 11\n",
      "Native-Utility pair: JLP-SOL (TVL: 1897018.9208520132)\n",
      "Native-Utility pair: JUP-SOL (TVL: 134121.3980843604)\n",
      "Native-Utility pair: JLP-SOL (TVL: 181241.0686255089)\n",
      "Native-Utility pair: JLP-SOL (TVL: 501160.46799076)\n",
      "Native-Utility pair: JUP-SOL (TVL: 256575.39361311644)\n",
      "Native-Utility pair: JUP-SOL (TVL: 4605679.819721749)\n",
      "Native-Utility pair: JUP-SOL (TVL: 459528.4647323379)\n",
      "Native-Utility pair: JUP-SOL (TVL: 811750.0562701623)\n",
      "Native-Utility pair: JLP-SOL (TVL: 584956.4641967975)\n",
      "Native-Utility pair: JLP-SOL (TVL: 979205.6833506209)\n",
      "Native-Utility pair: JUP-SOL (TVL: 186530.1691007234)\n"
     ]
    }
   ],
   "source": [
    "# Filter for native token (SOL) and utility token pairs\n",
    "native_utility_pairs = client.filter_native_utility_pairs(filtered_pairs)\n",
    "print(f\"Native-Utility pairs found: {len(native_utility_pairs)}\")\n",
    "for pair in native_utility_pairs:\n",
    "    print(f\"Native-Utility pair: {pair.token0_symbol}-{pair.token1_symbol} (TVL: {pair.tvl})\")\n"
   ]
  },
  {
   "cell_type": "code",
   "execution_count": 4,
   "metadata": {},
   "outputs": [
    {
     "name": "stdout",
     "output_type": "stream",
     "text": [
      "Tokens to analyze: 14\n",
      "{'6p6xgHyF7AeE6TZkSmFsko444wqoP15icUSqi2jfGiPN', '7vfCXTUXx5WJV5JADk17DUJ4ksgau7utNKj4b963voxs', 'A8C3xuqscfmyLrte3VmTqrAq8kgMASius9AFNANwpump', '3NZ9JMVBmGAqocybic2c7LQCJScmgsAZ6vQqTDzcqmJh', 'LFNTYraetVioAPnGJht4yNg2aUZFXR776cMeN9VMjXp', 'xLfNTYy76B8Tiix3hA51Jyvc1kMSFV4sPdR7szTZsRu', 'DgkKrQ1ErdRNjT2yTcAdEBa92JjFx75yxi4owArQarc', '63LfDmNb3MQ8mw9MtZ2To9bEA2M71kZUUGq5tiJxcqj9', 'Cn5Ne1vmR9ctMGY9z5NC71A3NYFvopjXNyxYtfVYpump', 'FUAfBo2jgks6gB4Z4LfZkqSZgzNucisEHqnNebaRxM1P', '9zNQRsGLjNKwCUU5Gq5LR8beUCPzQMVMqKAi3SSZh54u', '9McvH6w97oewLmPxqQEoHUAv3u5iYMyQ9AeZZhguYf1T', 'cbbtcf3aa214zXHbiAZQwf4122FBYbraNdFqgw4iMij', '61V8vBaqAGMpgDQi4JcAwo1dmBGHsyhzodcPqnEVpump'}\n"
     ]
    }
   ],
   "source": [
    "# Extract unique tokens and find largest SOL or USDC pool per token\n",
    "token_to_pool = {}\n",
    "for token in set(p.token0_address for p in filtered_pairs).union(p.token1_address for p in filtered_pairs):\n",
    "    # Prefer SOL pool, then USDC if no SOL pool exists\n",
    "    sol_pool = client.get_largest_pool(token, pools, base_token=client.SOL_ADDRESS)\n",
    "    usdc_pool = client.get_largest_pool(token, pools, base_token=client.USDC_ADDRESS)\n",
    "    largest_pool = sol_pool if sol_pool else usdc_pool\n",
    "    if largest_pool:\n",
    "        ticker = f\"{largest_pool.token0_symbol}-{largest_pool.token1_symbol}\"\n",
    "        token_to_pool[token] = {\n",
    "            \"pair_address\": largest_pool.address,\n",
    "            \"ticker\": ticker,\n",
    "            \"tvl\": largest_pool.tvl\n",
    "        }\n",
    "\n",
    "tokens = set(token_to_pool.keys())\n",
    "print(f\"Tokens to analyze: {len(tokens)}\")\n",
    "print(tokens)\n"
   ]
  },
  {
   "cell_type": "code",
   "execution_count": 9,
   "metadata": {},
   "outputs": [
    {
     "name": "stdout",
     "output_type": "stream",
     "text": [
      "Price data will be saved in: /Users/nicolaschiavo/Dev/internship/price_data\n",
      "Requesting page 1: https://solana-gateway.moralis.io/token/mainnet/pairs/71HuFmuYAFEFUna2x2R4HJjrFNQHGuagW3gUMFToL9tk/ohlcv?timeframe=1h&baseCurrency=native&fromDate=2025-02-18&toDate=2025-02-25&limit=50\n",
      "Response text: {\"message\":\"Validation service blocked: Your plan: free-plan-daily total included usage has been consumed, please upgrade your plan here, https://moralis.io/pricing\"}\n",
      "Price fetch failed: 401 Client Error: Unauthorized for url: https://solana-gateway.moralis.io/token/mainnet/pairs/71HuFmuYAFEFUna2x2R4HJjrFNQHGuagW3gUMFToL9tk/ohlcv?timeframe=1h&baseCurrency=native&fromDate=2025-02-18&toDate=2025-02-25&limit=50, falling back to mock data\n",
      "Mock columns: ['timestamp', 'open', 'high', 'low', 'close', 'volume']\n",
      "PriceBar columns for TRUMP-SOL (71HuFmuY...): ['timestamp', 'open', 'high', 'low', 'close', 'volume']\n",
      "Saved price data to /Users/nicolaschiavo/Dev/internship/price_data/TRUMP-SOL.pkl\n",
      "Requesting page 1: https://solana-gateway.moralis.io/token/mainnet/pairs/GT61WSpicGVEQHVEE2pAEZkbJfwxmeoBHPUkohXazXPX/ohlcv?timeframe=1h&baseCurrency=native&fromDate=2025-02-18&toDate=2025-02-25&limit=50\n",
      "Response text: {\"message\":\"Validation service blocked: Your plan: free-plan-daily total included usage has been consumed, please upgrade your plan here, https://moralis.io/pricing\"}\n",
      "Price fetch failed: 401 Client Error: Unauthorized for url: https://solana-gateway.moralis.io/token/mainnet/pairs/GT61WSpicGVEQHVEE2pAEZkbJfwxmeoBHPUkohXazXPX/ohlcv?timeframe=1h&baseCurrency=native&fromDate=2025-02-18&toDate=2025-02-25&limit=50, falling back to mock data\n",
      "Mock columns: ['timestamp', 'open', 'high', 'low', 'close', 'volume']\n",
      "PriceBar columns for SOL-ETH (GT61WSpi...): ['timestamp', 'open', 'high', 'low', 'close', 'volume']\n",
      "Saved price data to /Users/nicolaschiavo/Dev/internship/price_data/SOL-ETH.pkl\n",
      "Requesting page 1: https://solana-gateway.moralis.io/token/mainnet/pairs/5eDWEqd9LuedRwXCaVkghFjyRTT2aMeEr667y65bzmEu/ohlcv?timeframe=1h&baseCurrency=native&fromDate=2025-02-18&toDate=2025-02-25&limit=50\n",
      "Response text: {\"message\":\"Validation service blocked: Your plan: free-plan-daily total included usage has been consumed, please upgrade your plan here, https://moralis.io/pricing\"}\n",
      "Price fetch failed: 401 Client Error: Unauthorized for url: https://solana-gateway.moralis.io/token/mainnet/pairs/5eDWEqd9LuedRwXCaVkghFjyRTT2aMeEr667y65bzmEu/ohlcv?timeframe=1h&baseCurrency=native&fromDate=2025-02-18&toDate=2025-02-25&limit=50, falling back to mock data\n",
      "Mock columns: ['timestamp', 'open', 'high', 'low', 'close', 'volume']\n",
      "PriceBar columns for FWOG-SOL (5eDWEqd9...): ['timestamp', 'open', 'high', 'low', 'close', 'volume']\n",
      "Saved price data to /Users/nicolaschiavo/Dev/internship/price_data/FWOG-SOL.pkl\n",
      "Requesting page 1: https://solana-gateway.moralis.io/token/mainnet/pairs/4kdxjt8pKEW4qV4ji4HANixwswDJw3Egn8L4x2BEWQqT/ohlcv?timeframe=1h&baseCurrency=native&fromDate=2025-02-18&toDate=2025-02-25&limit=50\n",
      "Response text: {\"message\":\"Validation service blocked: Your plan: free-plan-daily total included usage has been consumed, please upgrade your plan here, https://moralis.io/pricing\"}\n",
      "Price fetch failed: 401 Client Error: Unauthorized for url: https://solana-gateway.moralis.io/token/mainnet/pairs/4kdxjt8pKEW4qV4ji4HANixwswDJw3Egn8L4x2BEWQqT/ohlcv?timeframe=1h&baseCurrency=native&fromDate=2025-02-18&toDate=2025-02-25&limit=50, falling back to mock data\n",
      "Mock columns: ['timestamp', 'open', 'high', 'low', 'close', 'volume']\n",
      "PriceBar columns for WBTC-SOL (4kdxjt8p...): ['timestamp', 'open', 'high', 'low', 'close', 'volume']\n",
      "Saved price data to /Users/nicolaschiavo/Dev/internship/price_data/WBTC-SOL.pkl\n",
      "Requesting page 1: https://solana-gateway.moralis.io/token/mainnet/pairs/96cnKui9gxPNgJbqSyugWFZvaasp1piaGWcQ5KTo2oRr/ohlcv?timeframe=1h&baseCurrency=native&fromDate=2025-02-18&toDate=2025-02-25&limit=50\n",
      "Response text: {\"message\":\"Validation service blocked: Your plan: free-plan-daily total included usage has been consumed, please upgrade your plan here, https://moralis.io/pricing\"}\n",
      "Price fetch failed: 401 Client Error: Unauthorized for url: https://solana-gateway.moralis.io/token/mainnet/pairs/96cnKui9gxPNgJbqSyugWFZvaasp1piaGWcQ5KTo2oRr/ohlcv?timeframe=1h&baseCurrency=native&fromDate=2025-02-18&toDate=2025-02-25&limit=50, falling back to mock data\n",
      "Mock columns: ['timestamp', 'open', 'high', 'low', 'close', 'volume']\n",
      "PriceBar columns for LFNTY-SOL (96cnKui9...): ['timestamp', 'open', 'high', 'low', 'close', 'volume']\n",
      "Saved price data to /Users/nicolaschiavo/Dev/internship/price_data/LFNTY-SOL.pkl\n",
      "Requesting page 1: https://solana-gateway.moralis.io/token/mainnet/pairs/CUwdpuraKAyYnYJe9suNq8w4Vi5hreQhMH7eoFvB7tTL/ohlcv?timeframe=1h&baseCurrency=native&fromDate=2025-02-18&toDate=2025-02-25&limit=50\n",
      "Response text: {\"message\":\"Validation service blocked: Your plan: free-plan-daily total included usage has been consumed, please upgrade your plan here, https://moralis.io/pricing\"}\n",
      "Price fetch failed: 401 Client Error: Unauthorized for url: https://solana-gateway.moralis.io/token/mainnet/pairs/CUwdpuraKAyYnYJe9suNq8w4Vi5hreQhMH7eoFvB7tTL/ohlcv?timeframe=1h&baseCurrency=native&fromDate=2025-02-18&toDate=2025-02-25&limit=50, falling back to mock data\n",
      "Mock columns: ['timestamp', 'open', 'high', 'low', 'close', 'volume']\n",
      "PriceBar columns for zTZsRu-SOL (CUwdpura...): ['timestamp', 'open', 'high', 'low', 'close', 'volume']\n",
      "Saved price data to /Users/nicolaschiavo/Dev/internship/price_data/zTZsRu-SOL.pkl\n",
      "Requesting page 1: https://solana-gateway.moralis.io/token/mainnet/pairs/CFtoEYSaBkLpP8mh4foXr9Cbw1YA23d2S25495B6sZVW/ohlcv?timeframe=1h&baseCurrency=native&fromDate=2025-02-18&toDate=2025-02-25&limit=50\n",
      "Response text: {\"message\":\"Validation service blocked: Your plan: free-plan-daily total included usage has been consumed, please upgrade your plan here, https://moralis.io/pricing\"}\n",
      "Price fetch failed: 401 Client Error: Unauthorized for url: https://solana-gateway.moralis.io/token/mainnet/pairs/CFtoEYSaBkLpP8mh4foXr9Cbw1YA23d2S25495B6sZVW/ohlcv?timeframe=1h&baseCurrency=native&fromDate=2025-02-18&toDate=2025-02-25&limit=50, falling back to mock data\n",
      "Mock columns: ['timestamp', 'open', 'high', 'low', 'close', 'volume']\n",
      "PriceBar columns for ASKJ-SOL (CFtoEYSa...): ['timestamp', 'open', 'high', 'low', 'close', 'volume']\n",
      "Saved price data to /Users/nicolaschiavo/Dev/internship/price_data/ASKJ-SOL.pkl\n",
      "Requesting page 1: https://solana-gateway.moralis.io/token/mainnet/pairs/44bUbBQxukyZ8rr3B5W8L3Gm8dm1QcL7gERD32zL7vpY/ohlcv?timeframe=1h&baseCurrency=native&fromDate=2025-02-18&toDate=2025-02-25&limit=50\n",
      "Response text: {\"message\":\"Validation service blocked: Your plan: free-plan-daily total included usage has been consumed, please upgrade your plan here, https://moralis.io/pricing\"}\n",
      "Price fetch failed: 401 Client Error: Unauthorized for url: https://solana-gateway.moralis.io/token/mainnet/pairs/44bUbBQxukyZ8rr3B5W8L3Gm8dm1QcL7gERD32zL7vpY/ohlcv?timeframe=1h&baseCurrency=native&fromDate=2025-02-18&toDate=2025-02-25&limit=50, falling back to mock data\n",
      "Mock columns: ['timestamp', 'open', 'high', 'low', 'close', 'volume']\n",
      "PriceBar columns for GIGA-SOL (44bUbBQx...): ['timestamp', 'open', 'high', 'low', 'close', 'volume']\n",
      "Saved price data to /Users/nicolaschiavo/Dev/internship/price_data/GIGA-SOL.pkl\n",
      "Requesting page 1: https://solana-gateway.moralis.io/token/mainnet/pairs/DeTb1pBtjEt11bwwjAFmDpD5cCdLypmiYtm6y6ebnfPE/ohlcv?timeframe=1h&baseCurrency=native&fromDate=2025-02-18&toDate=2025-02-25&limit=50\n",
      "Response text: {\"message\":\"Validation service blocked: Your plan: free-plan-daily total included usage has been consumed, please upgrade your plan here, https://moralis.io/pricing\"}\n",
      "Price fetch failed: 401 Client Error: Unauthorized for url: https://solana-gateway.moralis.io/token/mainnet/pairs/DeTb1pBtjEt11bwwjAFmDpD5cCdLypmiYtm6y6ebnfPE/ohlcv?timeframe=1h&baseCurrency=native&fromDate=2025-02-18&toDate=2025-02-25&limit=50, falling back to mock data\n",
      "Mock columns: ['timestamp', 'open', 'high', 'low', 'close', 'volume']\n",
      "PriceBar columns for LISTEN-SOL (DeTb1pBt...): ['timestamp', 'open', 'high', 'low', 'close', 'volume']\n",
      "Saved price data to /Users/nicolaschiavo/Dev/internship/price_data/LISTEN-SOL.pkl\n",
      "Requesting page 1: https://solana-gateway.moralis.io/token/mainnet/pairs/3qhdX4gRWJabvcTLSw8UKrqHENF1ZVeXegQnrada6B5B/ohlcv?timeframe=1h&baseCurrency=native&fromDate=2025-02-18&toDate=2025-02-25&limit=50\n",
      "Response text: {\"message\":\"Validation service blocked: Your plan: free-plan-daily total included usage has been consumed, please upgrade your plan here, https://moralis.io/pricing\"}\n",
      "Price fetch failed: 401 Client Error: Unauthorized for url: https://solana-gateway.moralis.io/token/mainnet/pairs/3qhdX4gRWJabvcTLSw8UKrqHENF1ZVeXegQnrada6B5B/ohlcv?timeframe=1h&baseCurrency=native&fromDate=2025-02-18&toDate=2025-02-25&limit=50, falling back to mock data\n",
      "Mock columns: ['timestamp', 'open', 'high', 'low', 'close', 'volume']\n",
      "PriceBar columns for MELANIA-SOL (3qhdX4gR...): ['timestamp', 'open', 'high', 'low', 'close', 'volume']\n",
      "Saved price data to /Users/nicolaschiavo/Dev/internship/price_data/MELANIA-SOL.pkl\n",
      "Requesting page 1: https://solana-gateway.moralis.io/token/mainnet/pairs/HSf69qmDooFF7Wxr2581fgpJNxAjwCeZmx8gf2q3BCAb/ohlcv?timeframe=1h&baseCurrency=native&fromDate=2025-02-18&toDate=2025-02-25&limit=50\n",
      "Response text: {\"message\":\"Validation service blocked: Your plan: free-plan-daily total included usage has been consumed, please upgrade your plan here, https://moralis.io/pricing\"}\n",
      "Price fetch failed: 401 Client Error: Unauthorized for url: https://solana-gateway.moralis.io/token/mainnet/pairs/HSf69qmDooFF7Wxr2581fgpJNxAjwCeZmx8gf2q3BCAb/ohlcv?timeframe=1h&baseCurrency=native&fromDate=2025-02-18&toDate=2025-02-25&limit=50, falling back to mock data\n",
      "Mock columns: ['timestamp', 'open', 'high', 'low', 'close', 'volume']\n",
      "PriceBar columns for SOL-FDUSD (HSf69qmD...): ['timestamp', 'open', 'high', 'low', 'close', 'volume']\n",
      "Saved price data to /Users/nicolaschiavo/Dev/internship/price_data/SOL-FDUSD.pkl\n",
      "Requesting page 1: https://solana-gateway.moralis.io/token/mainnet/pairs/6QBHzndsRpzuTxwDC2avVmQ6B291gM1sDx9oW9BfcFkE/ohlcv?timeframe=1h&baseCurrency=native&fromDate=2025-02-18&toDate=2025-02-25&limit=50\n",
      "Response text: {\"message\":\"Validation service blocked: Your plan: free-plan-daily total included usage has been consumed, please upgrade your plan here, https://moralis.io/pricing\"}\n",
      "Price fetch failed: 401 Client Error: Unauthorized for url: https://solana-gateway.moralis.io/token/mainnet/pairs/6QBHzndsRpzuTxwDC2avVmQ6B291gM1sDx9oW9BfcFkE/ohlcv?timeframe=1h&baseCurrency=native&fromDate=2025-02-18&toDate=2025-02-25&limit=50, falling back to mock data\n",
      "Mock columns: ['timestamp', 'open', 'high', 'low', 'close', 'volume']\n",
      "PriceBar columns for ANON-SOL (6QBHznds...): ['timestamp', 'open', 'high', 'low', 'close', 'volume']\n",
      "Saved price data to /Users/nicolaschiavo/Dev/internship/price_data/ANON-SOL.pkl\n",
      "Requesting page 1: https://solana-gateway.moralis.io/token/mainnet/pairs/7NvUQ2EE1nsQyT4xjpgZKqFo1sFh2PwAgsb6jdswZ6Ex/ohlcv?timeframe=1h&baseCurrency=native&fromDate=2025-02-18&toDate=2025-02-25&limit=50\n",
      "Response text: {\"message\":\"Validation service blocked: Your plan: free-plan-daily total included usage has been consumed, please upgrade your plan here, https://moralis.io/pricing\"}\n",
      "Price fetch failed: 401 Client Error: Unauthorized for url: https://solana-gateway.moralis.io/token/mainnet/pairs/7NvUQ2EE1nsQyT4xjpgZKqFo1sFh2PwAgsb6jdswZ6Ex/ohlcv?timeframe=1h&baseCurrency=native&fromDate=2025-02-18&toDate=2025-02-25&limit=50, falling back to mock data\n",
      "Mock columns: ['timestamp', 'open', 'high', 'low', 'close', 'volume']\n",
      "PriceBar columns for CBBTC-SOL (7NvUQ2EE...): ['timestamp', 'open', 'high', 'low', 'close', 'volume']\n",
      "Saved price data to /Users/nicolaschiavo/Dev/internship/price_data/CBBTC-SOL.pkl\n",
      "Requesting page 1: https://solana-gateway.moralis.io/token/mainnet/pairs/92J3X46dbnoPs25Vc3fr5m1xt9GVrQddqiPD9uzXQHH/ohlcv?timeframe=1h&baseCurrency=native&fromDate=2025-02-18&toDate=2025-02-25&limit=50\n",
      "Response text: {\"message\":\"Validation service blocked: Your plan: free-plan-daily total included usage has been consumed, please upgrade your plan here, https://moralis.io/pricing\"}\n",
      "Price fetch failed: 401 Client Error: Unauthorized for url: https://solana-gateway.moralis.io/token/mainnet/pairs/92J3X46dbnoPs25Vc3fr5m1xt9GVrQddqiPD9uzXQHH/ohlcv?timeframe=1h&baseCurrency=native&fromDate=2025-02-18&toDate=2025-02-25&limit=50, falling back to mock data\n",
      "Mock columns: ['timestamp', 'open', 'high', 'low', 'close', 'volume']\n",
      "PriceBar columns for ARC-SOL (92J3X46d...): ['timestamp', 'open', 'high', 'low', 'close', 'volume']\n",
      "Saved price data to /Users/nicolaschiavo/Dev/internship/price_data/ARC-SOL.pkl\n"
     ]
    }
   ],
   "source": [
    "# Set up output folder\n",
    "output_dir = os.path.join(project_root, \"price_data\")\n",
    "os.makedirs(output_dir, exist_ok=True)\n",
    "print(f\"Price data will be saved in: {output_dir}\")\n",
    "\n",
    "# Fetch and save price history with 1-hour timeframe\n",
    "price_bars = []\n",
    "from_date = (datetime.now() - timedelta(days=7)).strftime(\"%Y-%m-%d\")\n",
    "to_date = datetime.now().strftime(\"%Y-%m-%d\")\n",
    "for token in tokens:\n",
    "    pool_info = token_to_pool[token]\n",
    "    pair_address = pool_info[\"pair_address\"]\n",
    "    ticker = pool_info[\"ticker\"]\n",
    "    pb = client.get_price_bars(pair_address, ticker, from_date, to_date, timeframe=\"1h\",base_currency=\"native\")\n",
    "    print(f\"PriceBar columns for {ticker} ({pair_address[:8]}...): {pb.data.columns.tolist()}\")\n",
    "    \n",
    "    # Save to pickle file\n",
    "    pickle_path = os.path.join(output_dir, f\"{ticker}.pkl\")\n",
    "    pb.data.to_pickle(pickle_path)\n",
    "    print(f\"Saved price data to {pickle_path}\")\n",
    "    \n",
    "    price_bars.append(pb)\n",
    "\n"
   ]
  },
  {
   "cell_type": "code",
   "execution_count": 8,
   "metadata": {},
   "outputs": [
    {
     "name": "stdout",
     "output_type": "stream",
     "text": [
      "\n",
      "Price bar for first token (FWOG-SOL vs usd):\n",
      "              timestamp  open  high  low  close  volume\n",
      "163 2025-02-24 19:00:00   100   100  100    100       0\n",
      "164 2025-02-24 20:00:00   100   100  100    100       0\n",
      "165 2025-02-24 21:00:00   100   100  100    100       0\n",
      "166 2025-02-24 22:00:00   100   100  100    100       0\n",
      "167 2025-02-24 23:00:00   100   100  100    100       0\n"
     ]
    },
    {
     "data": {
      "image/png": "[encoded data removed]",
      "text/plain": [
       "<Figure size 864x432 with 1 Axes>"
      ]
     },
     "metadata": {
      "needs_background": "light"
     },
     "output_type": "display_data"
    }
   ],
   "source": [
    "# Print and plot first price bar\n",
    "if price_bars:\n",
    "    first_token = price_bars[2]\n",
    "    print(f\"\\nPrice bar for first token ({first_token.token_symbol} vs {first_token.base_token}):\")\n",
    "    print(first_token.data.tail())\n",
    "\n",
    "    plot_data = first_token.data[[\"timestamp\", \"open\", \"high\", \"low\", \"close\"]].copy()\n",
    "    plot_data[\"timestamp\"] = pd.to_datetime(plot_data[\"timestamp\"])\n",
    "    plot_data[\"timestamp\"] = plot_data[\"timestamp\"].map(pd.Timestamp.to_pydatetime).map(mpl_dates.date2num)\n",
    "\n",
    "    fig, ax = plt.subplots(figsize=(12, 6))\n",
    "    candlestick_ohlc(ax, plot_data.values, width=0.03, colorup='g', colordown='r')\n",
    "    ax.xaxis.set_major_formatter(DateFormatter(\"%Y-%m-%d %H:%M\"))\n",
    "    plt.title(f\"OHLC Price Chart for {first_token.token_symbol} vs {first_token.base_token} (1h intervals)\")\n",
    "    plt.xlabel(\"Time\")\n",
    "    plt.ylabel(\"Price (USD)\")\n",
    "    plt.xticks(rotation=45)\n",
    "    plt.tight_layout()\n",
    "    plt.show()\n",
    "else:\n",
    "    print(\"No price bars fetched\")"
   ]
  }
 ],
 "metadata": {
  "kernelspec": {
   "display_name": "Python 3 (ipykernel)",
   "language": "python",
   "name": "python3"
  }
 },
 "nbformat": 4,
 "nbformat_minor": 2
}
