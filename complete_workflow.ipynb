{
 "cells": [
  {
   "cell_type": "markdown",
   "metadata": {},
   "source": [
    "# Liquidity Pool Analysis Workflow\n",
    "\n",
    "This notebook implements the workflow:\n",
    "1. Fetch pools based on chains, DEXes, TVL, and volume.\n",
    "2. Download and save price data to 'data' folder for reuse.\n",
    "3. Filter pools older than 2 weeks.\n",
    "4. Compute metrics (volume, fees, ratios, volatility).\n",
    "5. Filter by metrics to get candidates.\n",
    "6. Display correlation matrix for candidates."
   ]
  },
  {
   "cell_type": "code",
   "execution_count": 1,
   "metadata": {},
   "outputs": [
    {
     "data": {
      "text/html": [
       "<style>.output {max-height: 500px; overflow-y: auto;}</style>"
      ],
      "text/plain": [
       "<IPython.core.display.HTML object>"
      ]
     },
     "metadata": {},
     "output_type": "display_data"
    }
   ],
   "source": [
    "import pandas as pd\n",
    "import ipywidgets as widgets\n",
    "from IPython.display import display, HTML\n",
    "import matplotlib.pyplot as plt\n",
    "from src.clients.geckoterminal import GeckoTerminalClient\n",
    "from src.constants import Network, NETWORK_CONFIG\n",
    "from src.utils.analyzer import Analyzer\n",
    "from datetime import datetime, timedelta\n",
    "import os\n",
    "import glob\n",
    "import numpy as np\n",
    "import traceback\n",
    "\n",
    "# Initialize styles\n",
    "display(HTML('<style>.output {max-height: 500px; overflow-y: auto;}</style>'))\n",
    "\n",
    "# Define calculation functions\n",
    "def calculate_volume_and_fees_from_two(base_df: pd.DataFrame, tvl: float, days_interval: int = 7, fee_rate: float = 0.003) -> dict:\n",
    "    base_df['volume'] = pd.to_numeric(base_df['volume'], errors='coerce')\n",
    "    if not pd.api.types.is_datetime64_any_dtype(base_df['timestamp']):\n",
    "        base_df['timestamp'] = pd.to_datetime(base_df['timestamp'], errors='coerce')\n",
    "    base_df = base_df.dropna(subset=['timestamp', 'volume']).sort_values('timestamp')\n",
    "    max_time = base_df['timestamp'].max()\n",
    "    days_interval_ago = max_time - pd.Timedelta(days=days_interval)\n",
    "    base_interval_df = base_df[base_df['timestamp'] >= days_interval_ago]\n",
    "    total_volume = base_interval_df['volume'].sum()\n",
    "    total_fees = total_volume * fee_rate\n",
    "    fee_to_tvl_ratio = total_fees / tvl if tvl > 0 else None\n",
    "    volume_to_tvl_ratio = total_volume / tvl if tvl > 0 else None\n",
    "    return {\n",
    "        f'{days_interval}days_total_volume': total_volume,\n",
    "        f'{days_interval}days_fees': total_fees,\n",
    "        'fee_to_tvl_ratio': fee_to_tvl_ratio,\n",
    "        'volume_to_tvl_ratio': volume_to_tvl_ratio\n",
    "    }\n",
    "\n",
    "def calculate_cross_price_volatility_from_df(cross_df: pd.DataFrame, days_interval: int) -> dict:\n",
    "    if 'close' not in cross_df.columns:\n",
    "        if 'price' in cross_df.columns:\n",
    "            cross_df = cross_df.rename(columns={'price': 'close'})\n",
    "        else:\n",
    "            return {}\n",
    "    if not pd.api.types.is_datetime64_any_dtype(cross_df['timestamp']):\n",
    "        cross_df['timestamp'] = pd.to_datetime(cross_df['timestamp'], errors='coerce')\n",
    "    cross_df = cross_df.dropna(subset=['timestamp', 'close']).sort_values('timestamp')\n",
    "    max_time = cross_df['timestamp'].max()\n",
    "    start_time = max_time - pd.Timedelta(days=days_interval)\n",
    "    filtered_df = cross_df[cross_df['timestamp'] >= start_time]\n",
    "    if filtered_df.empty:\n",
    "        return {'historical_volatility': np.nan}\n",
    "    filtered_df['log_return'] = np.log(filtered_df['close'] / filtered_df['close'].shift(1))\n",
    "    historical_volatility = filtered_df['log_return'].std() * np.sqrt(365 * 24)\n",
    "    return {'historical_volatility': historical_volatility}\n",
    "\n",
    "def calculate_pool_metrics(tvl: float, base_df: pd.DataFrame, cross_price_df: pd.DataFrame, days_interval: int = 7, fee_rate: float = 0.003) -> dict:\n",
    "    volume_metrics = calculate_volume_and_fees_from_two(base_df, tvl, days_interval, fee_rate)\n",
    "    volatility_metrics = calculate_cross_price_volatility_from_df(cross_price_df, 15)\n",
    "    return {**volume_metrics, **volatility_metrics}"
   ]
  },
  {
   "cell_type": "markdown",
   "metadata": {},
   "source": [
    "## Step 1: Fetch Pools"
   ]
  },
  {
   "cell_type": "code",
   "execution_count": 2,
   "metadata": {},
   "outputs": [
    {
     "data": {
      "application/vnd.jupyter.widget-view+json": {
       "model_id": "73856fc689ae4c8fbcba2f58b12392fe",
       "version_major": 2,
       "version_minor": 0
      },
      "text/plain": [
       "VBox(children=(SelectMultiple(description='Chains:', index=(0,), options=('solana', 'eth', 'bsc', 'polygon_pos…"
      ]
     },
     "metadata": {},
     "output_type": "display_data"
    }
   ],
   "source": [
    "# Define available chains and DEXes\n",
    "chains = [Network.SOLANA.value, Network.ETHEREUM.value, Network.BSC.value, Network.POLYGONPOS.value,\n",
    "          Network.ARBITRUM.value, Network.SUI.value, Network.BASE.value]\n",
    "dexes_by_chain = {\n",
    "    chain: NETWORK_CONFIG[chain]['dexes'] for chain in chains\n",
    "}\n",
    "\n",
    "# Create widgets with multiple selection\n",
    "chain_dropdown = widgets.SelectMultiple(\n",
    "    options=chains, \n",
    "    description='Chains:', \n",
    "    value=[chains[0]],\n",
    "    rows=5\n",
    ")\n",
    "dex_dropdown = widgets.SelectMultiple(\n",
    "    options=dexes_by_chain[chains[0]], \n",
    "    description='DEXes:', \n",
    "    value=[],\n",
    "    rows=5\n",
    ")\n",
    "\n",
    "# Fetching widgets\n",
    "chain_dropdown = widgets.SelectMultiple(options=chains, description='Chains:', value=[chains[0]], rows=5)\n",
    "dex_dropdown = widgets.SelectMultiple(options=dexes_by_chain[chains[0]], description='DEXes:', value=[], rows=5)\n",
    "min_tvl = widgets.FloatText(value=10000, description='Min TVL ($):')\n",
    "max_tvl = widgets.FloatText(value=10000000000.0, description='Max TVL ($):')\n",
    "min_volume = widgets.FloatText(value=5000, description='Min Volume ($):')\n",
    "no_pivots = widgets.Checkbox(value=False, description='Exclude Pivot Tokens')\n",
    "no_stables = widgets.Checkbox(value=True, description='Exclude Stablecoins')\n",
    "utility_pairs = widgets.Checkbox(value=False, description='Utility Pairs Only')\n",
    "force_redownload = widgets.Checkbox(value=False, description='Force Re-Download')\n",
    "fetch_button = widgets.Button(description='Fetch Pools', button_style='success')\n",
    "output = widgets.Output()\n",
    "\n",
    "def update_dex_dropdown(change):\n",
    "    selected_chains = change['new']\n",
    "    all_dexes = set()\n",
    "    for chain in selected_chains:\n",
    "        all_dexes.update(dexes_by_chain.get(chain, []))\n",
    "    dex_dropdown.options = sorted(all_dexes)\n",
    "chain_dropdown.observe(update_dex_dropdown, names='value')\n",
    "\n",
    "display(widgets.VBox([chain_dropdown, dex_dropdown, min_tvl, max_tvl, min_volume, no_pivots, no_stables, utility_pairs, force_redownload, fetch_button, output]))\n",
    "\n",
    "def fetch_pools(b):\n",
    "    with output:\n",
    "        output.clear_output()\n",
    "        print('Fetching pools...')\n",
    "        try:\n",
    "            selected_chains = list(chain_dropdown.value)\n",
    "            selected_dexes = set(dex_dropdown.value)\n",
    "            all_pools = []\n",
    "            for chain in selected_chains:\n",
    "                chain_dexes = dexes_by_chain.get(chain, [])\n",
    "                dexes_to_fetch = [dex for dex in chain_dexes if dex in selected_dexes] if selected_dexes else chain_dexes\n",
    "                for dex_name in dexes_to_fetch:\n",
    "                    client = GeckoTerminalClient(network=chain, dex=dex_name)\n",
    "                    pools = client.fetch_liquidity_pools(all_pages=True, min_tvl=min_tvl.value, max_tvl=max_tvl.value, min_volume=min_volume.value, no_pivots=no_pivots.value, no_stables=no_stables.value, utility_pairs=utility_pairs.value)\n",
    "                    for pool in pools:\n",
    "                        pool.chain = chain\n",
    "                        pool.dex = dex_name\n",
    "                    all_pools.extend(pools)\n",
    "            \n",
    "            df = pd.DataFrame([\n",
    "                {'Chain': pool.chain, 'DEX': pool.dex, 'Pair': f'{pool.token0_symbol}/{pool.token1_symbol}', 'TVL': pool.tvl, 'Volume': pool.volume, 'Address': pool.address}\n",
    "                for pool in all_pools\n",
    "            ])\n",
    "            display(df)\n",
    "            output_file = f'pools{datetime.now().strftime(\"%Y%m%d%H%M%S\")}.csv'\n",
    "            df.to_csv(output_file, index=False)\n",
    "            print(f'Saved to {output_file}')\n",
    "            update_pool_options_and_data(None)\n",
    "        except Exception as e:\n",
    "            print(f'Error: {e}')\n",
    "            traceback.print_exc()\n",
    "\n",
    "fetch_button.on_click(fetch_pools)"
   ]
  },
  {
   "cell_type": "markdown",
   "metadata": {},
   "source": [
    "## Step 2: Download Price Data and Filter by Age"
   ]
  },
  {
   "cell_type": "code",
   "execution_count": 7,
   "metadata": {},
   "outputs": [],
   "source": [
    "# Function to download data and filter age\n",
    "def update_pool_options_and_data(change):\n",
    "    with output:\n",
    "        print('Downloading data and filtering age...')\n",
    "        try:\n",
    "            csv_files = glob.glob('pools_*.csv')\n",
    "            latest_csv = max(csv_files, key=os.path.getctime)\n",
    "            df = pd.read_csv(latest_csv)\n",
    "            \n",
    "            filtered_pools = []\n",
    "            for row in df.iterrows():\n",
    "                chain = row['Chain']\n",
    "                dex_name = row['DEX']\n",
    "                address = row['Address']\n",
    "                pair = row['Pair']\n",
    "                token0_symbol, token1_symbol = pair.split('/')\n",
    "                data_folder = os.path.join('data', chain, dex_name, f'{token0_symbol}{token1_symbol}')\n",
    "                os.makedirs(data_folder, exist_ok=True)\n",
    "                \n",
    "                base_usd_path = os.path.join(data_folder, 'base_usd.csv')\n",
    "                quote_usd_path = os.path.join(data_folder, 'quote_usd.csv')\n",
    "                cross_path = os.path.join(data_folder, 'cross.csv')\n",
    "                \n",
    "                client = GeckoTerminalClient(network=chain, dex=dex_name)\n",
    "                \n",
    "                if not force_redownload.value and os.path.exists(base_usd_path) and os.path.exists(quote_usd_path) and os.path.exists(cross_path):\n",
    "                    cross_df = pd.read_csv(cross_path)\n",
    "                else:\n",
    "                    base_usd_bars = client.get_price_bars(address, timeframe='hour', aggregate=1, currency='usd', token='base', limit=1000)\n",
    "                    quote_usd_bars = client.get_price_bars(address, timeframe='hour', aggregate=1, currency='usd', token='quote', limit=1000)\n",
    "                    cross_bars = client.get_price_bars(address, timeframe='hour', aggregate=1, currency='token', token='base', limit=1000)\n",
    "                    if base_usd_bars and quote_usd_bars and cross_bars:\n",
    "                        base_usd_bars.data.to_csv(base_usd_path, index=False)\n",
    "                        quote_usd_bars.data.to_csv(quote_usd_path, index=False)\n",
    "                        cross_bars.data.to_csv(cross_path, index=False)\n",
    "                        cross_df = cross_bars.data\n",
    "                    else:\n",
    "                        continue\n",
    "                \n",
    "                # Filter by age\n",
    "                if len(cross_df) < 336:\n",
    "                    continue\n",
    "                cross_df['timestamp'] = pd.to_datetime(cross_df['timestamp'])\n",
    "                time_span_hours = (cross_df['timestamp'].max() - cross_df['timestamp'].min()).total_seconds() / 3600\n",
    "                if time_span_hours < 336:\n",
    "                    continue\n",
    "                \n",
    "                filtered_pools.append(row)\n",
    "            \n",
    "            filtered_df = pd.DataFrame(filtered_pools)\n",
    "            display(filtered_df)\n",
    "            filtered_file = f'filtered_age_{datetime.now().strftime(\"%Y%m%d_%H%M%S\")}.csv'\n",
    "            filtered_df.to_csv(filtered_file, index=False)\n",
    "            print(f'Saved age-filtered pools to {filtered_file}')\n",
    "            compute_metrics_button.on_click(lambda x: compute_metrics(x, filtered_file))\n",
    "        except Exception as e:\n",
    "            print(f'Error: {e}')\n",
    "            traceback.print_exc()"
   ]
  },
  {
   "cell_type": "markdown",
   "metadata": {},
   "source": [
    "## Step 3: Compute Metrics"
   ]
  },
  {
   "cell_type": "code",
   "execution_count": 6,
   "metadata": {},
   "outputs": [
    {
     "data": {
      "application/vnd.jupyter.widget-view+json": {
       "model_id": "caff5a162ed04986b8f77bb5496c998d",
       "version_major": 2,
       "version_minor": 0
      },
      "text/plain": [
       "Button(button_style='info', description='Compute Metrics', style=ButtonStyle())"
      ]
     },
     "metadata": {},
     "output_type": "display_data"
    },
    {
     "data": {
      "application/vnd.jupyter.widget-view+json": {
       "model_id": "e61b845188d0484099753bc2d89c4d5a",
       "version_major": 2,
       "version_minor": 0
      },
      "text/plain": [
       "Output()"
      ]
     },
     "metadata": {},
     "output_type": "display_data"
    }
   ],
   "source": [
    "# Compute metrics button\n",
    "compute_metrics_button = widgets.Button(description='Compute Metrics', button_style='info')\n",
    "metrics_output = widgets.Output()\n",
    "display(compute_metrics_button, metrics_output)\n",
    "\n",
    "# Compute metrics function\n",
    "def compute_metrics(b, filtered_file):\n",
    "    with metrics_output:\n",
    "        metrics_output.clear_output()\n",
    "        print('Computing metrics...')\n",
    "        try:\n",
    "            df = pd.read_csv(filtered_file)\n",
    "            metrics_list = []\n",
    "            for row in df.iterrows():\n",
    "                chain = row['Chain']\n",
    "                dex_name = row['DEX']\n",
    "                address = row['Address']\n",
    "                tvl = row['TVL']\n",
    "                pair = row['Pair']\n",
    "                token0_symbol, token1_symbol = pair.split('/')\n",
    "                data_folder = os.path.join('data', chain, dex_name, f'{token0_symbol}{token1_symbol}')\n",
    "                base_usd_path = os.path.join(data_folder, 'base_usd.csv')\n",
    "                cross_path = os.path.join(data_folder, 'cross.csv')\n",
    "                base_df = pd.read_csv(base_usd_path)\n",
    "                cross_df = pd.read_csv(cross_path)\n",
    "                metrics = calculate_pool_metrics(tvl, base_df, cross_df)\n",
    "                metrics['Chain'] = chain\n",
    "                metrics['DEX'] = dex_name\n",
    "                metrics['Pair'] = pair\n",
    "                metrics['Address'] = address\n",
    "                metrics['TVL'] = tvl\n",
    "                metrics_list.append(metrics)\n",
    "            \n",
    "            metrics_df = pd.DataFrame(metrics_list)\n",
    "            display(metrics_df)\n",
    "            metrics_file = f'metrics_{datetime.now().strftime(\"%Y%m%d_%H%M%S\")}.csv'\n",
    "            metrics_df.to_csv(metrics_file, index=False)\n",
    "            print(f'Saved metrics to {metrics_file}')\n",
    "            filter_metrics_button.on_click(lambda x: filter_metrics(x, metrics_file))\n",
    "        except Exception as e:\n",
    "            print(f'Error: {e}')\n",
    "            traceback.print_exc()"
   ]
  },
  {
   "cell_type": "markdown",
   "metadata": {},
   "source": [
    "## Step 4: Filter by Metrics"
   ]
  },
  {
   "cell_type": "code",
   "execution_count": 5,
   "metadata": {},
   "outputs": [
    {
     "data": {
      "application/vnd.jupyter.widget-view+json": {
       "model_id": "0cfcd7d2e3b24adabd05da89d6ba6d24",
       "version_major": 2,
       "version_minor": 0
      },
      "text/plain": [
       "FloatText(value=5.0, description='Min Fee/TVL:')"
      ]
     },
     "metadata": {},
     "output_type": "display_data"
    },
    {
     "data": {
      "application/vnd.jupyter.widget-view+json": {
       "model_id": "55ff36991f6b4a4c9b4d9ff8090c96b4",
       "version_major": 2,
       "version_minor": 0
      },
      "text/plain": [
       "Button(button_style='info', description='Filter by Metrics', style=ButtonStyle())"
      ]
     },
     "metadata": {},
     "output_type": "display_data"
    },
    {
     "data": {
      "application/vnd.jupyter.widget-view+json": {
       "model_id": "b237491deab6405c9975558766b34b23",
       "version_major": 2,
       "version_minor": 0
      },
      "text/plain": [
       "Output()"
      ]
     },
     "metadata": {},
     "output_type": "display_data"
    }
   ],
   "source": [
    "# Filtering widgets\n",
    "min_fee_tvl = widgets.FloatText(value=5, description='Min Fee/TVL:')\n",
    "filter_metrics_button = widgets.Button(description='Filter by Metrics', button_style='info')\n",
    "filter_output = widgets.Output()\n",
    "display(min_fee_tvl, filter_metrics_button, filter_output)\n",
    "\n",
    "# Filter metrics function\n",
    "def filter_metrics(b, metrics_file):\n",
    "    with filter_output:\n",
    "        filter_output.clear_output()\n",
    "        print('Filtering by metrics...')\n",
    "        try:\n",
    "            df = pd.read_csv(metrics_file)\n",
    "            filtered_df = df[df['fee_to_tvl_ratio'] >= min_fee_tvl.value]\n",
    "            display(filtered_df)\n",
    "            candidate_file = f'candidates_{datetime.now().strftime(\"%Y%m%d_%H%M%S\")}.csv'\n",
    "            filtered_df.to_csv(candidate_file, index=False)\n",
    "            print(f'Saved candidates to {candidate_file}')\n",
    "            corr_button.on_click(lambda x: compute_correlation(x, candidate_file))\n",
    "        except Exception as e:\n",
    "            print(f'Error: {e}')\n",
    "            traceback.print_exc()"
   ]
  },
  {
   "cell_type": "markdown",
   "metadata": {},
   "source": [
    "## Step 5: Compute Correlation Matrix"
   ]
  },
  {
   "cell_type": "code",
   "execution_count": 4,
   "metadata": {},
   "outputs": [
    {
     "data": {
      "application/vnd.jupyter.widget-view+json": {
       "model_id": "77b0267180cd42dea8eee21eb6dda0dd",
       "version_major": 2,
       "version_minor": 0
      },
      "text/plain": [
       "Button(button_style='info', description='Compute Correlation', style=ButtonStyle())"
      ]
     },
     "metadata": {},
     "output_type": "display_data"
    },
    {
     "data": {
      "application/vnd.jupyter.widget-view+json": {
       "model_id": "2bb8599d5fb4489dbf40cbe6f8c60a40",
       "version_major": 2,
       "version_minor": 0
      },
      "text/plain": [
       "Output()"
      ]
     },
     "metadata": {},
     "output_type": "display_data"
    }
   ],
   "source": [
    "# Correlation button\n",
    "corr_button = widgets.Button(description='Compute Correlation', button_style='info')\n",
    "corr_output = widgets.Output()\n",
    "display(corr_button, corr_output)\n",
    "\n",
    "# Compute correlation function\n",
    "def compute_correlation(b, candidate_file):\n",
    "    with corr_output:\n",
    "        corr_output.clear_output()\n",
    "        print('Computing correlation...')\n",
    "        try:\n",
    "            df = pd.read_csv(candidate_file)\n",
    "            data_list = []\n",
    "            for row in df.iterrows():\n",
    "                chain = row['Chain']\n",
    "                dex_name = row['DEX']\n",
    "                pair = row['Pair']\n",
    "                token0_symbol, token1_symbol = pair.split('/')\n",
    "                data_folder = os.path.join('data', chain, dex_name, f'{token0_symbol}{token1_symbol}')\n",
    "                cross_path = os.path.join(data_folder, 'cross.csv')\n",
    "                cross_df = pd.read_csv(cross_path)\n",
    "                data_list.append((pair, cross_df))\n",
    "            corr_matrix = Analyzer.compute_correlation_matrix_from_dataframes(data_list)\n",
    "            display(corr_matrix)\n",
    "            plt.figure(figsize=(10, 8))\n",
    "            plt.imshow(corr_matrix, cmap='coolwarm', interpolation='nearest')\n",
    "            plt.colorbar()\n",
    "            plt.xticks(range(len(corr_matrix)), corr_matrix.columns, rotation=90)\n",
    "            plt.yticks(range(len(corr_matrix)), corr_matrix.index)\n",
    "            plt.title('Correlation Matrix')\n",
    "            plt.show()\n",
    "        except Exception as e:\n",
    "            print(f'Error: {e}')\n",
    "            traceback.print_exc()"
   ]
  }
 ],
 "metadata": {
  "kernelspec": {
   "display_name": "Python 3",
   "language": "python",
   "name": "python3"
  },
  "language_info": {
   "codemirror_mode": {
    "name": "ipython",
    "version": 3
   },
   "file_extension": ".py",
   "mimetype": "text/x-python",
   "name": "python",
   "nbconvert_exporter": "python",
   "pygments_lexer": "ipython3",
   "version": "3.9.0"
  }
 },
 "nbformat": 4,
 "nbformat_minor": 4
}
